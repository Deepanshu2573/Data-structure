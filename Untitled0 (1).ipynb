{
  "nbformat": 4,
  "nbformat_minor": 0,
  "metadata": {
    "colab": {
      "provenance": []
    },
    "kernelspec": {
      "name": "python3",
      "display_name": "Python 3"
    },
    "language_info": {
      "name": "python"
    }
  },
  "cells": [
    {
      "cell_type": "markdown",
      "source": [
        "# Data structure Assignment\n",
        "1.What are data structure and why they are important?\n",
        " - Data structure are specialized formats for organizing , storing and accessing collection of data,they provide effecient ways to manage information based on characteristics and intended use.\n",
        "  Data structure is important because of following reasons\n",
        " -Choosing the right data structure significantly impacts the efficiency and performance of your program.\n",
        " Well-chosen data structures can\n",
        "Simplify data manipulation (adding, removing, modifying elements)\n",
        ".Optimize searching and sorting operations\n",
        ".Conserve memory usage\n"
      ],
      "metadata": {
        "id": "U6X_7b6VUZoE"
      }
    },
    {
      "cell_type": "markdown",
      "source": [
        " 2.  Explain the difference between mutable and immutable data types with examples?\n",
        " - In Python, objects can be either changeable (modifiable) or unchangeable (unchangeable).\n",
        "Mutable objects, such as lists and dictionaries, can be modified after creation, while immutable objects, such as tuples and strings, cannot.\n"
      ],
      "metadata": {
        "id": "4EJq4urXVJ9P"
      }
    },
    {
      "cell_type": "markdown",
      "source": [
        "3. What are the main differences between lists and tuples in Python?\n",
        "- List are Ordered, mutable collections of elements.Lists can hold items of various data types (numbers, strings, even other lists).Data can be modified in lists\n",
        "- Tuples are Ordered, immutable collections of elements, once created, the items in a tuple cannot be changed. They provide a secure way to store data that shouldn't be modified."
      ],
      "metadata": {
        "id": "wxIacjmDj_m_"
      }
    },
    {
      "cell_type": "markdown",
      "source": [
        "4. Describe how dictionaries store data?\n",
        "- Dictionaries are unordered collection. Data is stored in a unique key:value pair.Keys and values can be of various data types (strings, numbers, lists, and even other dictionaries)\n",
        " for eg- user_id = \"sahil\" password= 123\n",
        " dictionary will store this as a key, value pair {\"sahil\":123}\n",
        "\n",
        "\n",
        "\n"
      ],
      "metadata": {
        "id": "TGD7vRcBlfpa"
      }
    },
    {
      "cell_type": "markdown",
      "source": [
        "5. Why might you use a set instead of a list in Python?\n",
        " - In set order doesn't matter, and duplicate entries are not allowed. Sets are useful for checking membership (if an item exists) or finding the intersection/difference between sets. where as in list duplicate entry is possible\n",
        " - set operations like Union , Intersection , Difference are very useful"
      ],
      "metadata": {
        "id": "H_E_pTItm-g4"
      }
    },
    {
      "cell_type": "markdown",
      "source": [
        "6. What is a string in Python, and how is it different from a list?\n",
        "- Strings is a sequence of character , represent and manipulate data . strings is immutable . string can be alphanumeric . Each character in the string can be accessed by its index, or position. Substrings can be extracted using slicing. Strings can be joined together and altered using a variety of techniques (find, replace, etc.)\n",
        "- difference between string and list\n",
        " - string is a sequence of characters (text). Each character in a string is an individual element, and you can access them using indexing where as a list can contain elements of any data type, including integers, strings, objects, or even other lists. It's more flexible because it can hold different kinds of data.\n",
        " - Strings are immutable where as list are mutable\n"
      ],
      "metadata": {
        "id": "u-pY0MPMpKmw"
      }
    },
    {
      "cell_type": "markdown",
      "source": [
        "7. How do tuples ensure data integrity in Python?\n",
        "- tuples help ensure data integrity by being immutable. This immutability is what differentiates tuples from other data structures like lists, and it plays a key role in preserving the integrity of the data they store.\n",
        "- Once a tuple is created, its content cannot be changed. You cannot add, remove, or modify elements in a tuple after it's created.\n"
      ],
      "metadata": {
        "id": "1a6FFyTzsPoM"
      }
    },
    {
      "cell_type": "markdown",
      "source": [
        "8. What is a hash table, and how does it relate to dictionaries in Python?\n",
        "- In Python, the dictionary (dict) is an implementation of a hash table.A hash table is a data structure that stores data in key-value pairs. It uses a hash function to compute an index (or \"hash code\") into an array of buckets or slots, from which the desired value can be found. Hash tables are designed to allow for fast insertion, deletion, and lookup of data, making them one of the most efficient data structures for these operations. A Python dictionary stores key-value pairs, and the key is hashed to determine its position in the underlying hash table.\n"
      ],
      "metadata": {
        "id": "-CkE52QptF2F"
      }
    },
    {
      "cell_type": "markdown",
      "source": [
        "9.Can lists contain different data types in Python?\n",
        "- yes lists can contain different types OF data. lists can store everything be it string, integers or a float."
      ],
      "metadata": {
        "id": "Q7sw2e_AucUL"
      }
    },
    {
      "cell_type": "markdown",
      "source": [
        "10. Explain why strings are immutable in Python?\n",
        "- Strings are immutable in Python to ensure memory efeciency,data integrity and performance optimisation. This immutability allows Python to optimize memory usage, prevent accidental modifications, and ensure consistent behavior, especially in multi-threaded environments."
      ],
      "metadata": {
        "id": "zTn1_IKTu_sO"
      }
    },
    {
      "cell_type": "markdown",
      "source": [
        "11.What advantages do dictionaries offer over lists for certain tasks?\n",
        " - Dictionaries offer several advantages over lists for certain tasks -\n",
        "  - Dictionaries store data as key-value pairs, which allows for more intuitive mappings (e.g., associating a name with a phone number), while lists are simply ordered collections without any key-value structure.\n",
        "\n",
        "  -Dictionaries enforce unique keys, so you can't accidentally have duplicate keys, which helps avoid overwriting data, unlike lists where you can have repeated elements."
      ],
      "metadata": {
        "id": "1Ok3P5C4hIwm"
      }
    },
    {
      "cell_type": "markdown",
      "source": [
        "12. Describe a scenario where using a tuple would be preferable over a list?\n",
        " - tuple would be preferable over a list when you need to store immutable data that should not be modified. For example, when representing  (Employee ids), here the values should remain constant throughout the program, a tuple is ideal. Using a tuple ensures that the data cannot be accidentally changed."
      ],
      "metadata": {
        "id": "fJQoYVzUiHDF"
      }
    },
    {
      "cell_type": "markdown",
      "source": [
        "13.  How do sets handle duplicate values in Python?\n",
        " - In Python, sets automatically remove duplicate values. A set only stores unique elements; if you try to add a duplicate element, it is simply ignored, and the set retains only one instance of that element."
      ],
      "metadata": {
        "id": "COuaLgBXipF4"
      }
    },
    {
      "cell_type": "markdown",
      "source": [
        "14. How does the “in” keyword work differently for lists and dictionaries?\n",
        " - The in keyword works differently for lists and dictionaries in Python because of how each data structure is organized:\n",
        "  - For lists- When using in with a list, it checks if the specified value exists in the list. It returns True if the value is found, and False otherwise. This requires iterating over the entire list.\n",
        "  - for dictionary- When using in with a dictionary, it checks if the specified key exists in the dictionary. It does not check the values, but instead looks for the presence of the key in the dictionary's set of keys.\n",
        "\n"
      ],
      "metadata": {
        "id": "OWdo720-jcjX"
      }
    },
    {
      "cell_type": "markdown",
      "source": [
        "15. Can you modify the elements of a tuple? Explain why or why not?\n",
        " - No, you cannot modify the elements of a tuple in Python. This is because tuples are immutable. Once a tuple is created, its contents cannot be changed, added to, or removed. The immutability of tuples ensures that their data remains constant throughout the program, providing benefits like data integrity and hashability."
      ],
      "metadata": {
        "id": "Yi4jFIY0ktdc"
      }
    },
    {
      "cell_type": "markdown",
      "source": [
        "16.  What is a nested dictionary, and give an example of its use case?\n",
        " - A nested dictionary in Python is a dictionary where the values can themselves be dictionaries (or any other data structure, such as lists or tuples). This allows you to create more complex structures, where you can store hierarchical or related data\n",
        "  example- students =\n",
        "   { \"sahil\": {\"age\": 20, \"grade\": \"A\", \"subjects\": [\"Math\", \"Science\"]}"
      ],
      "metadata": {
        "id": "8jbCAp83l1A6"
      }
    },
    {
      "cell_type": "markdown",
      "source": [
        "17.Describe the time complexity of accessing elements in a dictionary?\n",
        " - In Python, the time complexity of accessing elements in a dictionary is O(1), or constant time, on average. This means that no matter how large the dictionary is, accessing an element by its key takes roughly the same amount of time."
      ],
      "metadata": {
        "id": "RkrmyM8qnvK2"
      }
    },
    {
      "cell_type": "markdown",
      "source": [
        "18. In what situations are lists preferred over dictionaries?\n",
        " - Lists are preferred over dictionaries when order matters, as they preserve the sequence of elements. They are ideal for simple collections of values where indexing is required, and when duplicates are needed. Lists are also more suitable for small or simple data sets where key-value pairing is unnecessary."
      ],
      "metadata": {
        "id": "CkVNV3oZoyWS"
      }
    },
    {
      "cell_type": "markdown",
      "source": [
        "19. Why are dictionaries considered unordered, and how does that affect data retrieval?\n",
        " - Dictionaries are considered unordered because they store data based on hash values, not in a specific sequence. While Python 3.7+ preserves insertion order, this is an implementation detail, not a guarantee. Data retrieval is efficient via keys, but you cannot access elements by their position like in a list."
      ],
      "metadata": {
        "id": "VwU1VDAEpOQ-"
      }
    },
    {
      "cell_type": "markdown",
      "source": [
        "20.Explain the difference between a list and a dictionary in terms of data retrieval?\n",
        " - In a list, data is retrieved by index, which is a position-based system. You access elements using their numerical index, and the order of elements matters.\n",
        "  -In a dictionary, data is retrieved by key, which is a unique identifier for each value. The key-value pair structure allows for fast lookups, and order is not guaranteed (though it is preserved in Python 3.7+). Dictionaries provide efficient O(1) average time complexity for key-based lookup"
      ],
      "metadata": {
        "id": "8qdHOm8Gp7wc"
      }
    },
    {
      "cell_type": "markdown",
      "source": [
        "## Practical questions\n"
      ],
      "metadata": {
        "id": "CdiFTRYQq7AR"
      }
    },
    {
      "cell_type": "markdown",
      "source": [
        "1. Write a code to create a string with your name and print it"
      ],
      "metadata": {
        "id": "ifydjAt-rCd0"
      }
    },
    {
      "cell_type": "code",
      "source": [
        "name = \"Deepanshu kaushik\"\n",
        "print (name)"
      ],
      "metadata": {
        "colab": {
          "base_uri": "https://localhost:8080/"
        },
        "id": "shjjHPYIrQNd",
        "outputId": "374ac048-b74c-409d-dd5a-efac37707302"
      },
      "execution_count": null,
      "outputs": [
        {
          "output_type": "stream",
          "name": "stdout",
          "text": [
            "Deepanshu kaushik\n"
          ]
        }
      ]
    },
    {
      "cell_type": "markdown",
      "source": [
        "2. Write a code to find the length of the string \"Hello World\"?"
      ],
      "metadata": {
        "id": "Vw43CCYprxYu"
      }
    },
    {
      "cell_type": "code",
      "source": [
        "a = \"Hello world\"\n",
        "len(a)"
      ],
      "metadata": {
        "colab": {
          "base_uri": "https://localhost:8080/"
        },
        "id": "A60s8PPasRiP",
        "outputId": "c1ae517c-ab55-4c3f-9dcf-6aed334c8a6c"
      },
      "execution_count": null,
      "outputs": [
        {
          "output_type": "execute_result",
          "data": {
            "text/plain": [
              "11"
            ]
          },
          "metadata": {},
          "execution_count": 2
        }
      ]
    },
    {
      "cell_type": "markdown",
      "source": [
        "3.Write a code to slice the first 3 characters from the string \"Python Programming\"?"
      ],
      "metadata": {
        "id": "Z74fnRTgsiEj"
      }
    },
    {
      "cell_type": "code",
      "source": [
        "String = \"python programming\"\n",
        "String[0:3]"
      ],
      "metadata": {
        "colab": {
          "base_uri": "https://localhost:8080/",
          "height": 35
        },
        "id": "0SNADxNTspmC",
        "outputId": "de6779d6-8f0e-4e72-99d4-7dcd4453d005"
      },
      "execution_count": null,
      "outputs": [
        {
          "output_type": "execute_result",
          "data": {
            "text/plain": [
              "'pyt'"
            ],
            "application/vnd.google.colaboratory.intrinsic+json": {
              "type": "string"
            }
          },
          "metadata": {},
          "execution_count": 4
        }
      ]
    },
    {
      "cell_type": "markdown",
      "source": [
        " 4.Write a code to convert the string \"hello\" to uppercase?"
      ],
      "metadata": {
        "id": "gJNOFU3BtJOD"
      }
    },
    {
      "cell_type": "code",
      "source": [
        "s = \"hello\"\n",
        "s.upper()"
      ],
      "metadata": {
        "colab": {
          "base_uri": "https://localhost:8080/",
          "height": 35
        },
        "id": "4fyWi_rstOnM",
        "outputId": "dac347e7-93e3-4b0c-888c-031b4c6121a7"
      },
      "execution_count": null,
      "outputs": [
        {
          "output_type": "execute_result",
          "data": {
            "text/plain": [
              "'HELLO'"
            ],
            "application/vnd.google.colaboratory.intrinsic+json": {
              "type": "string"
            }
          },
          "metadata": {},
          "execution_count": 6
        }
      ]
    },
    {
      "cell_type": "markdown",
      "source": [
        "5.Write a code to replace the word \"apple\" with \"orange\" in the string \"I like apple\""
      ],
      "metadata": {
        "id": "nT-kQS50tvPr"
      }
    },
    {
      "cell_type": "code",
      "source": [
        "s = \"I like apple\"\n",
        "s.replace(\"apple\",\"orange\")"
      ],
      "metadata": {
        "colab": {
          "base_uri": "https://localhost:8080/",
          "height": 35
        },
        "id": "2_poryK6t34q",
        "outputId": "3815d5aa-a9f8-4f96-b7a6-268ec17aec3b"
      },
      "execution_count": null,
      "outputs": [
        {
          "output_type": "execute_result",
          "data": {
            "text/plain": [
              "'I like orange'"
            ],
            "application/vnd.google.colaboratory.intrinsic+json": {
              "type": "string"
            }
          },
          "metadata": {},
          "execution_count": 8
        }
      ]
    },
    {
      "cell_type": "markdown",
      "source": [
        "6.Write a code to create a list with numbers 1 to 5 and print it?"
      ],
      "metadata": {
        "id": "gIWGEIZZuWXe"
      }
    },
    {
      "cell_type": "code",
      "source": [
        "numbers= [1,2,3,4,5]\n",
        "print(numbers)"
      ],
      "metadata": {
        "colab": {
          "base_uri": "https://localhost:8080/"
        },
        "id": "RwoW2D1Hubqk",
        "outputId": "f8d8a726-f3a8-4ded-c9d3-4800dc7e3e3e"
      },
      "execution_count": null,
      "outputs": [
        {
          "output_type": "stream",
          "name": "stdout",
          "text": [
            "[1, 2, 3, 4, 5]\n"
          ]
        }
      ]
    },
    {
      "cell_type": "markdown",
      "source": [
        "7.Write a code to append the number 10 to the list [1, 2, 3, 4]"
      ],
      "metadata": {
        "id": "BZlCo9ClvIZs"
      }
    },
    {
      "cell_type": "code",
      "source": [
        "number = [1,2,3,4]\n",
        "number.append(10)\n",
        "print(number)"
      ],
      "metadata": {
        "colab": {
          "base_uri": "https://localhost:8080/"
        },
        "id": "o-BdfeVcvOke",
        "outputId": "d8549e76-c387-4eaa-a4c4-9d9d4d8c02b7"
      },
      "execution_count": null,
      "outputs": [
        {
          "output_type": "stream",
          "name": "stdout",
          "text": [
            "[1, 2, 3, 4, 10]\n"
          ]
        }
      ]
    },
    {
      "cell_type": "markdown",
      "source": [
        "8.Write a code to remove the number 3 from the list [1, 2, 3, 4, 5]"
      ],
      "metadata": {
        "id": "0B1J-nrDvp0B"
      }
    },
    {
      "cell_type": "code",
      "source": [
        "number=[1,2,3,4,5]\n",
        "number.remove(3)\n",
        "print(number)"
      ],
      "metadata": {
        "colab": {
          "base_uri": "https://localhost:8080/"
        },
        "id": "vjH4TDw0vupY",
        "outputId": "7bca2f31-62ba-4b52-b6cb-af527c87ca09"
      },
      "execution_count": null,
      "outputs": [
        {
          "output_type": "stream",
          "name": "stdout",
          "text": [
            "[1, 2, 4, 5]\n"
          ]
        }
      ]
    },
    {
      "cell_type": "markdown",
      "source": [
        "9. Write a code to access the second element in the list ['a', 'b', 'c', 'd']"
      ],
      "metadata": {
        "id": "FSBK8OgEv6ie"
      }
    },
    {
      "cell_type": "code",
      "source": [
        "a = [\"a\",\"b\",\"c\",\"d\"]\n",
        "a[1]"
      ],
      "metadata": {
        "colab": {
          "base_uri": "https://localhost:8080/",
          "height": 35
        },
        "id": "5dW_qS-nwL8i",
        "outputId": "a407ca9f-7a1c-4256-9d44-0c1e6c7e6686"
      },
      "execution_count": null,
      "outputs": [
        {
          "output_type": "execute_result",
          "data": {
            "text/plain": [
              "'b'"
            ],
            "application/vnd.google.colaboratory.intrinsic+json": {
              "type": "string"
            }
          },
          "metadata": {},
          "execution_count": 17
        }
      ]
    },
    {
      "cell_type": "markdown",
      "source": [
        "10.Write a code to reverse the list [10, 20, 30, 40, 50]"
      ],
      "metadata": {
        "id": "ArHgzgwJxdcn"
      }
    },
    {
      "cell_type": "code",
      "source": [
        "number = [10,20,30,40,50]\n",
        "number.reverse()\n",
        "print(number)"
      ],
      "metadata": {
        "colab": {
          "base_uri": "https://localhost:8080/"
        },
        "id": "MwRYCvBFxjGJ",
        "outputId": "f29ba11f-0481-488d-fa94-980ba464a79a"
      },
      "execution_count": null,
      "outputs": [
        {
          "output_type": "stream",
          "name": "stdout",
          "text": [
            "[50, 40, 30, 20, 10]\n"
          ]
        }
      ]
    },
    {
      "cell_type": "markdown",
      "source": [
        "11. Write a code to create a tuple with the elements 100, 200, 300 and print it?"
      ],
      "metadata": {
        "id": "Sv7Ye0Iu1kkx"
      }
    },
    {
      "cell_type": "code",
      "source": [
        "elements = (100,200,300)\n",
        "print(elements)"
      ],
      "metadata": {
        "colab": {
          "base_uri": "https://localhost:8080/"
        },
        "id": "d43kXTmd1uow",
        "outputId": "92f76d38-7dc5-419f-9d72-8afd4cc4b0c8"
      },
      "execution_count": null,
      "outputs": [
        {
          "output_type": "stream",
          "name": "stdout",
          "text": [
            "(100, 200, 300)\n"
          ]
        }
      ]
    },
    {
      "cell_type": "markdown",
      "source": [
        "12. Write a code to access the second-to-last element of the tuple ('red', 'green', 'blue', 'yellow')."
      ],
      "metadata": {
        "id": "NNo5e7WT14c8"
      }
    },
    {
      "cell_type": "code",
      "source": [
        "elements = ('red','green','blue','yellow')\n",
        "elements[-2]"
      ],
      "metadata": {
        "colab": {
          "base_uri": "https://localhost:8080/",
          "height": 35
        },
        "id": "M4VvttKP19rQ",
        "outputId": "2be4e44a-d9d1-4de8-f85e-1c10492da5a9"
      },
      "execution_count": null,
      "outputs": [
        {
          "output_type": "execute_result",
          "data": {
            "text/plain": [
              "'blue'"
            ],
            "application/vnd.google.colaboratory.intrinsic+json": {
              "type": "string"
            }
          },
          "metadata": {},
          "execution_count": 26
        }
      ]
    },
    {
      "cell_type": "markdown",
      "source": [
        "13.. Write a code to find the minimum number in the tuple (10, 20, 5, 15)"
      ],
      "metadata": {
        "id": "uOA8fFc-3EZK"
      }
    },
    {
      "cell_type": "code",
      "source": [
        "number = (10,20,5,15)\n",
        "min(number)"
      ],
      "metadata": {
        "colab": {
          "base_uri": "https://localhost:8080/"
        },
        "id": "UoKNu7933LZb",
        "outputId": "dad0c631-70b3-4f84-af66-3cb749accaeb"
      },
      "execution_count": null,
      "outputs": [
        {
          "output_type": "execute_result",
          "data": {
            "text/plain": [
              "5"
            ]
          },
          "metadata": {},
          "execution_count": 27
        }
      ]
    },
    {
      "cell_type": "markdown",
      "source": [
        "14. Write a code to find the index of the element \"cat\" in the tuple ('dog', 'cat', 'rabbit')"
      ],
      "metadata": {
        "id": "S0bz25jC3WwJ"
      }
    },
    {
      "cell_type": "code",
      "source": [
        "animal = ('dog','cat','rabbit')\n",
        "animal.index('cat')"
      ],
      "metadata": {
        "colab": {
          "base_uri": "https://localhost:8080/"
        },
        "id": "SCPkUDg93ear",
        "outputId": "5b30e8da-0517-4fa7-af08-1a40da7014bf"
      },
      "execution_count": null,
      "outputs": [
        {
          "output_type": "execute_result",
          "data": {
            "text/plain": [
              "1"
            ]
          },
          "metadata": {},
          "execution_count": 28
        }
      ]
    },
    {
      "cell_type": "markdown",
      "source": [
        "15. Write a code to create a tuple containing three different fruits and check if \"kiwi\" is in it."
      ],
      "metadata": {
        "id": "bolKzMoc3xXC"
      }
    },
    {
      "cell_type": "code",
      "source": [
        "fruits= ('apple','banana','kiwi')\n",
        "print('kiwi' in fruits)\n"
      ],
      "metadata": {
        "colab": {
          "base_uri": "https://localhost:8080/"
        },
        "id": "Lm3LQqjb33n1",
        "outputId": "1f4204be-3feb-4320-8203-4604f030d069"
      },
      "execution_count": null,
      "outputs": [
        {
          "output_type": "stream",
          "name": "stdout",
          "text": [
            "True\n"
          ]
        }
      ]
    },
    {
      "cell_type": "code",
      "source": [
        "16. Write a code to create a set with the elements 'a', 'b', 'c' and print it"
      ],
      "metadata": {
        "id": "Rf_r6lt86WtI"
      },
      "execution_count": null,
      "outputs": []
    },
    {
      "cell_type": "code",
      "source": [
        "elements = {'a','b','c'}\n",
        "print(elements)\n",
        "type(elements)"
      ],
      "metadata": {
        "colab": {
          "base_uri": "https://localhost:8080/"
        },
        "id": "RQvlMosH6bON",
        "outputId": "5f775449-4ee2-4ff6-851a-6b0f4e24259d"
      },
      "execution_count": null,
      "outputs": [
        {
          "output_type": "stream",
          "name": "stdout",
          "text": [
            "{'a', 'c', 'b'}\n"
          ]
        },
        {
          "output_type": "execute_result",
          "data": {
            "text/plain": [
              "set"
            ]
          },
          "metadata": {},
          "execution_count": 43
        }
      ]
    },
    {
      "cell_type": "markdown",
      "source": [
        "17.. Write a code to clear all elements from the set {1, 2, 3, 4, 5}"
      ],
      "metadata": {
        "id": "DdAsMq4G60wM"
      }
    },
    {
      "cell_type": "code",
      "source": [
        "elements = {1,2,3,4,5}\n",
        "elements.clear()\n",
        "print(elements)"
      ],
      "metadata": {
        "colab": {
          "base_uri": "https://localhost:8080/"
        },
        "id": "Uxw2Jvjm69Qv",
        "outputId": "98c53c43-b904-486a-953d-65319c17d79e"
      },
      "execution_count": null,
      "outputs": [
        {
          "output_type": "stream",
          "name": "stdout",
          "text": [
            "set()\n"
          ]
        }
      ]
    },
    {
      "cell_type": "markdown",
      "source": [
        "18. Write a code to remove the element 4 from the set {1, 2, 3, 4}"
      ],
      "metadata": {
        "id": "XrzgzjKs7hm2"
      }
    },
    {
      "cell_type": "code",
      "source": [
        "elements = {1,2,3,4}\n",
        "elements.remove(4)\n",
        "print(elements)"
      ],
      "metadata": {
        "colab": {
          "base_uri": "https://localhost:8080/"
        },
        "id": "lUkvd-pS9hRa",
        "outputId": "a48de837-47bd-4112-d81b-c922c89575f0"
      },
      "execution_count": null,
      "outputs": [
        {
          "output_type": "stream",
          "name": "stdout",
          "text": [
            "{1, 2, 3}\n"
          ]
        }
      ]
    },
    {
      "cell_type": "markdown",
      "source": [
        "19. Write a code to find the union of two sets {1, 2, 3} and {3, 4, 5}"
      ],
      "metadata": {
        "id": "8-MuTvRE-RNH"
      }
    },
    {
      "cell_type": "code",
      "source": [
        "a = {1,2,3}\n",
        "b = {3,4,5}\n",
        "print (a|b)"
      ],
      "metadata": {
        "colab": {
          "base_uri": "https://localhost:8080/"
        },
        "id": "sGj4vV1p-WwS",
        "outputId": "a5b1d42c-df44-4e1b-b37c-f743022ce2de"
      },
      "execution_count": null,
      "outputs": [
        {
          "output_type": "stream",
          "name": "stdout",
          "text": [
            "{1, 2, 3, 4, 5}\n"
          ]
        }
      ]
    },
    {
      "cell_type": "markdown",
      "source": [
        "20. Write a code to find the intersection of two sets {1, 2, 3} and {2, 3, 4}"
      ],
      "metadata": {
        "id": "bVm5eVbA-np3"
      }
    },
    {
      "cell_type": "code",
      "source": [
        "a = {1,2,3}\n",
        "b = {2,3,4}\n",
        "print(a&b)"
      ],
      "metadata": {
        "colab": {
          "base_uri": "https://localhost:8080/"
        },
        "id": "nQ1yHi6B-s_m",
        "outputId": "0b336635-c34a-4222-83b3-e5898d3a0ed8"
      },
      "execution_count": null,
      "outputs": [
        {
          "output_type": "stream",
          "name": "stdout",
          "text": [
            "{2, 3}\n"
          ]
        }
      ]
    },
    {
      "cell_type": "markdown",
      "source": [
        "21.Write a code to create a dictionary with the keys \"name\", \"age\", and \"city\", and print it"
      ],
      "metadata": {
        "id": "Gw_N5g6c-6oG"
      }
    },
    {
      "cell_type": "code",
      "source": [
        "my_dict = {\"name\" : \"Deepanshu\" ,\"age\" : 27 , \"city\" : \"Rohtak\"}\n",
        "print (my_dict)"
      ],
      "metadata": {
        "colab": {
          "base_uri": "https://localhost:8080/"
        },
        "id": "nx6V9K3s-8xb",
        "outputId": "ce7f7b25-5b22-41cb-e1ae-6a814000cb90"
      },
      "execution_count": null,
      "outputs": [
        {
          "output_type": "stream",
          "name": "stdout",
          "text": [
            "{'name': 'Deepanshu', 'age': 27, 'city': 'Rohtak'}\n"
          ]
        }
      ]
    },
    {
      "cell_type": "markdown",
      "source": [
        "22. Write a code to add a new key-value pair \"country\": \"USA\" to the dictionary {'name': 'John', 'age': 25}"
      ],
      "metadata": {
        "id": "bE9v3ZCZAEPQ"
      }
    },
    {
      "cell_type": "code",
      "source": [
        "my_dict = {'name': 'John', 'age': 25}\n",
        "my_dict['country'] = 'USA'\n",
        "print(my_dict)"
      ],
      "metadata": {
        "colab": {
          "base_uri": "https://localhost:8080/"
        },
        "id": "Aqw1Y87XAN8M",
        "outputId": "21681736-85a1-4750-ca45-8c50b7aa0728"
      },
      "execution_count": null,
      "outputs": [
        {
          "output_type": "stream",
          "name": "stdout",
          "text": [
            "{'name': 'John', 'age': 25, 'country': 'USA'}\n"
          ]
        }
      ]
    },
    {
      "cell_type": "markdown",
      "source": [
        "23. Write a code to access the value associated with the key \"name\" in the dictionary {'name': 'Alice', 'age': 30}"
      ],
      "metadata": {
        "id": "5MWT9vijAeIW"
      }
    },
    {
      "cell_type": "code",
      "source": [
        "my_dict = {'name': 'alice' , 'age' : 30}\n",
        "my_dict[\"name\"]"
      ],
      "metadata": {
        "colab": {
          "base_uri": "https://localhost:8080/",
          "height": 35
        },
        "id": "FY5ihoFLAscn",
        "outputId": "3a50fe63-fa02-4388-ac22-0100b1f1c6ac"
      },
      "execution_count": null,
      "outputs": [
        {
          "output_type": "execute_result",
          "data": {
            "text/plain": [
              "'alice'"
            ],
            "application/vnd.google.colaboratory.intrinsic+json": {
              "type": "string"
            }
          },
          "metadata": {},
          "execution_count": 55
        }
      ]
    },
    {
      "cell_type": "markdown",
      "source": [
        "24. Write a code to remove the key \"age\" from the dictionary {'name': 'Bob', 'age': 22, 'city': 'New York'}"
      ],
      "metadata": {
        "id": "x-7VsPEzBpFs"
      }
    },
    {
      "cell_type": "code",
      "source": [
        "my_dict = { 'name':'Bob', 'age':22, 'city': 'New york'}\n",
        "del my_dict['age']\n",
        "print(my_dict)"
      ],
      "metadata": {
        "colab": {
          "base_uri": "https://localhost:8080/"
        },
        "id": "d4duWzIXBt9B",
        "outputId": "61069c1b-3b98-4c83-aaa4-627685445b87"
      },
      "execution_count": null,
      "outputs": [
        {
          "output_type": "stream",
          "name": "stdout",
          "text": [
            "{'name': 'Bob', 'city': 'New york'}\n"
          ]
        }
      ]
    },
    {
      "cell_type": "markdown",
      "source": [
        "25. Write a code to check if the key \"city\" exists in the dictionary {'name': 'Alice', 'city': 'Paris'}."
      ],
      "metadata": {
        "id": "MPkhVxHeC76M"
      }
    },
    {
      "cell_type": "code",
      "source": [
        "my_dict = {'name': 'alice', 'city': 'paris'}\n",
        "print('city' in my_dict)"
      ],
      "metadata": {
        "colab": {
          "base_uri": "https://localhost:8080/"
        },
        "id": "jt5AtHy9DB46",
        "outputId": "34b76f95-27ec-4aee-e039-f3ac97b69fe2"
      },
      "execution_count": null,
      "outputs": [
        {
          "output_type": "stream",
          "name": "stdout",
          "text": [
            "True\n"
          ]
        }
      ]
    },
    {
      "cell_type": "markdown",
      "source": [
        "26.Write a code to create a list, a tuple, and a dictionary, and print them all"
      ],
      "metadata": {
        "id": "UydtT2PCD71m"
      }
    },
    {
      "cell_type": "code",
      "source": [
        "my_list = [1,2,3,4,5]\n",
        "print(my_list)\n",
        "my_tuple = (6,7,8,9,10)\n",
        "print(my_tuple)\n",
        "my_dict = {\"name\" : \"Deepanshu\" , \"age\" : 27 , \"city\" : \"Rotak\"}\n",
        "print(my_dict)"
      ],
      "metadata": {
        "colab": {
          "base_uri": "https://localhost:8080/"
        },
        "id": "TaRYXG7vEqt7",
        "outputId": "b8e3f3e1-9b4d-41d8-9eac-d3e46f0e63fd"
      },
      "execution_count": null,
      "outputs": [
        {
          "output_type": "stream",
          "name": "stdout",
          "text": [
            "[1, 2, 3, 4, 5]\n",
            "(6, 7, 8, 9, 10)\n",
            "{'name': 'Deepanshu', 'age': 27, 'city': 'Rotak'}\n"
          ]
        }
      ]
    },
    {
      "cell_type": "markdown",
      "source": [
        "27. Write a code to create a list of 5 random numbers between 1 and 100, sort it in ascending order, and print the\n",
        "result.(replaced)"
      ],
      "metadata": {
        "id": "73pAEgjiFeC8"
      }
    },
    {
      "cell_type": "code",
      "source": [
        "my_list = [75,40,61,33,8]\n",
        "my_list.sort()\n",
        "print(my_list)"
      ],
      "metadata": {
        "colab": {
          "base_uri": "https://localhost:8080/"
        },
        "id": "IYy_AP9dFX4o",
        "outputId": "610659f9-7632-405e-d500-3da57d8b5424"
      },
      "execution_count": null,
      "outputs": [
        {
          "output_type": "stream",
          "name": "stdout",
          "text": [
            "[8, 33, 40, 61, 75]\n"
          ]
        }
      ]
    },
    {
      "cell_type": "markdown",
      "source": [
        "28.Write a code to create a list with strings and print the element at the third index"
      ],
      "metadata": {
        "id": "Cc4Ws7NIGLTZ"
      }
    },
    {
      "cell_type": "code",
      "source": [
        "my_list = [\"abc\",\"def\",\"ghi\",\"jkl\",\"mno\"]\n",
        "my_list[3]"
      ],
      "metadata": {
        "colab": {
          "base_uri": "https://localhost:8080/",
          "height": 35
        },
        "id": "xByWqXARGQFs",
        "outputId": "85cc09e9-9a53-481d-93cf-a3e0742a9d83"
      },
      "execution_count": null,
      "outputs": [
        {
          "output_type": "execute_result",
          "data": {
            "text/plain": [
              "'jkl'"
            ],
            "application/vnd.google.colaboratory.intrinsic+json": {
              "type": "string"
            }
          },
          "metadata": {},
          "execution_count": 67
        }
      ]
    },
    {
      "cell_type": "markdown",
      "source": [
        "29. Write a code to combine two dictionaries into one and print the result"
      ],
      "metadata": {
        "id": "8X2RuZwgG8q1"
      }
    },
    {
      "cell_type": "code",
      "source": [
        "a ={\"name\":\"ajay\"}\n",
        "b ={\"marks\": 90}\n",
        "a.update(b)\n",
        "print(a)"
      ],
      "metadata": {
        "colab": {
          "base_uri": "https://localhost:8080/"
        },
        "id": "nG1_kub6HBAe",
        "outputId": "29673389-75da-48b5-eee2-a400ec9c72ea"
      },
      "execution_count": null,
      "outputs": [
        {
          "output_type": "stream",
          "name": "stdout",
          "text": [
            "{'name': 'ajay', 'marks': 90}\n"
          ]
        }
      ]
    },
    {
      "cell_type": "markdown",
      "source": [
        "30. Write a code to convert a list of strings into a set"
      ],
      "metadata": {
        "id": "-kIbDcgqIuSF"
      }
    },
    {
      "cell_type": "code",
      "source": [
        "my_list = [\"apple\",\"banana\",\"papaya\"]\n",
        "my_set = set(my_list)\n",
        "print(my_set)"
      ],
      "metadata": {
        "colab": {
          "base_uri": "https://localhost:8080/"
        },
        "id": "9N_fFicSI2Pf",
        "outputId": "8ac19189-8a00-49f4-8cb8-053b449509a5"
      },
      "execution_count": null,
      "outputs": [
        {
          "output_type": "stream",
          "name": "stdout",
          "text": [
            "{'apple', 'papaya', 'banana'}\n"
          ]
        }
      ]
    }
  ]
}